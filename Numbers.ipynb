{
 "cells": [
  {
   "cell_type": "markdown",
   "metadata": {},
   "source": [
    "# পাইথনে নম্বর এবং আরো অনেক কিছু\n",
    "\n",
    "এই লেকচারে আমরা পাইথনের নম্বর এবং এর ব্যবহার সম্পর্কে জানবো। \n",
    "\n",
    "আমরা যে সকল বিষয় সম্পর্কে জানবোঃ \n",
    "\n",
    "    1.) পাইথনের বিভিন্ন ধরনের নম্বর। \n",
    "    2.) সাধারন যোগ বিয়োগ গুন ভাগ।\n",
    "    3.) ভাগের ক্ষেত্রে পাইথন ২ এবং ৩ পার্থক্য।  \n",
    "    4.) পাইথনে ভেরিয়েবল এসাইনমেন্ট করা। "
   ]
  },
  {
   "cell_type": "markdown",
   "metadata": {},
   "source": [
    "# বিভিন্ন রকমের নম্বর। \n",
    "\n",
    "পাইথনে বিভিন্ন \"types\" নম্বর আছে। আমরা মুলতো integers এবং floating point নম্বরের দিকে ফোকাস করবো। \n",
    "\n",
    "Integers মানে হলো সম্পূর্ণ  নম্বর। যেমনঃ ১, ২, -৫ ।\n",
    "\n",
    "পাইথনে Floating point নম্বর খুব সহেজেই বোঝা যায়, কারন Floating point নম্বরে দশমিক থাকে কিনবা exponential (e) থাকে। যেমনঃ ২.০, ২.১, -৩.৩ হলো Floating point নম্বর। এছাড়াও 4E2 (4 times 10 to the power of 2) ও Floating point নম্বর। \n",
    "\n",
    "এই কোর্সে মুলতো আমরা Integers এবং সাধারন Floating point নিয়ে কাজ করবো। \n",
    "\n",
    "নিচের টেবিলে আমরা কিছু নম্বর টাইপের উদাহারন দেখছি, যা আমরা এই কোর্সে বেশিরভাগ সময়ই ব্যবহার করবো। \n"
   ]
  },
  {
   "cell_type": "markdown",
   "metadata": {},
   "source": [
    "<table>\n",
    "<tr>\n",
    "    <th>Examples</th> \n",
    "    <th>Number \"Type\"</th>\n",
    "</tr>\n",
    "\n",
    "<tr>\n",
    "    <td>1,2,-5,1000</td>\n",
    "    <td>Integers</td> \n",
    "</tr>\n",
    "\n",
    "<tr>\n",
    "    <td>1.2,-0.5,2e2,3E2</td> \n",
    "    <td>Floating-point numbers</td> \n",
    "</tr>\n",
    " </table>"
   ]
  },
  {
   "cell_type": "markdown",
   "metadata": {},
   "source": [
    " \n",
    " \n",
    "চলুন কিছু সাধারন গানিতিক সমস্যা দিয়ে শুরু কারা যাকঃ \n"
   ]
  },
  {
   "cell_type": "markdown",
   "metadata": {},
   "source": [
    "# সাধারন গানিতিক সমস্যা"
   ]
  },
  {
   "cell_type": "code",
   "execution_count": 9,
   "metadata": {},
   "outputs": [
    {
     "data": {
      "text/plain": [
       "3"
      ]
     },
     "execution_count": 9,
     "metadata": {},
     "output_type": "execute_result"
    }
   ],
   "source": [
    "# যোগ\n",
    "2+1"
   ]
  },
  {
   "cell_type": "code",
   "execution_count": 10,
   "metadata": {},
   "outputs": [
    {
     "data": {
      "text/plain": [
       "1"
      ]
     },
     "execution_count": 10,
     "metadata": {},
     "output_type": "execute_result"
    }
   ],
   "source": [
    "# বিয়োগ\n",
    "2-1"
   ]
  },
  {
   "cell_type": "code",
   "execution_count": 11,
   "metadata": {},
   "outputs": [
    {
     "data": {
      "text/plain": [
       "4"
      ]
     },
     "execution_count": 11,
     "metadata": {},
     "output_type": "execute_result"
    }
   ],
   "source": [
    "# গুন \n",
    "2*2"
   ]
  },
  {
   "cell_type": "code",
   "execution_count": 12,
   "metadata": {},
   "outputs": [
    {
     "data": {
      "text/plain": [
       "1.5"
      ]
     },
     "execution_count": 12,
     "metadata": {},
     "output_type": "execute_result"
    }
   ],
   "source": [
    "# ভাগ \n",
    "3/2"
   ]
  },
  {
   "cell_type": "markdown",
   "metadata": {},
   "source": [
    "### <font color='red'>Python 2 Alert!</font>\n",
    "\n",
    "পাইথন ২ তে যদি আমরা ৩/২ করি তবে আমরা আউটপুট হিসেবে পাবো ১। কিন্তু পাইথন ৩ এ ৩/২ এর আউটপুট আসবে ১.৫। পাইথন ২ এ   “ / ” সেমবল  \"classic\" division পারফর্ম করে। যার মানে দশমিকের পরের সংখ্যা  গুলো বাদ পড়ে যায় (cut off)। কিন্তু পাইথন ৩ এ “ / ” সেমবল  \"True\" division পারফর্ম করে, যার করনে আমরা পাইথন ২ এ ১ এবং পাইথন ৩ এ ১.৫ আউটপুট পাই। \n",
    "\n",
    "তাহলে কি করলে আমরা পাইথন ২ এর এই সমস্যা থেকে মুক্তি পেতে পারি? \n",
    "\n",
    "এর দুটি পদ্ধতি আছে। ১) যেকোন একটি নম্বর কে float এ পরিনত করা, ২) Future থেকে ডিভিশন import করা। "
   ]
  },
  {
   "cell_type": "markdown",
   "metadata": {},
   "source": [
    "## যেকোন একটি নম্বর কে float এ পরিনত করা\n"
   ]
  },
  {
   "cell_type": "code",
   "execution_count": 13,
   "metadata": {},
   "outputs": [
    {
     "data": {
      "text/plain": [
       "1.5"
      ]
     },
     "execution_count": 13,
     "metadata": {},
     "output_type": "execute_result"
    }
   ],
   "source": [
    "# যেকোন একটি নম্বরকে Float করে নেয়া। \n",
    "3.0/2"
   ]
  },
  {
   "cell_type": "code",
   "execution_count": 14,
   "metadata": {},
   "outputs": [
    {
     "data": {
      "text/plain": [
       "1.5"
      ]
     },
     "execution_count": 14,
     "metadata": {},
     "output_type": "execute_result"
    }
   ],
   "source": [
    "# যেকোন একটি করলেই কাজ করবে\n",
    "3/2.0"
   ]
  },
  {
   "cell_type": "markdown",
   "metadata": {},
   "source": [
    "এছাড়াও আমরা type cast করে integer কে float করে নিতে পারি।"
   ]
  },
  {
   "cell_type": "code",
   "execution_count": 15,
   "metadata": {},
   "outputs": [
    {
     "data": {
      "text/plain": [
       "1.5"
      ]
     },
     "execution_count": 15,
     "metadata": {},
     "output_type": "execute_result"
    }
   ],
   "source": [
    "# টাইপ কাস্টিং এর জন্য আমরা float() ফাংশন ব্যাবহার করবো। \n",
    "float(3)/2"
   ]
  },
  {
   "cell_type": "markdown",
   "metadata": {},
   "source": [
    "আমরা ফাংশন এবং ইম্পোরট নিয়ে কোর্সে বিস্তারিত আলোচনা করবো, তাই এখন এসব ফাংশন এবং ইম্পোরট নিয়ে চিন্তা না করলেও চলবে। "
   ]
  },
  {
   "cell_type": "markdown",
   "metadata": {},
   "source": [
    "## ইম্পোরট "
   ]
  },
  {
   "cell_type": "markdown",
   "metadata": {},
   "source": [
    "নিচে একটি python 2 মডিউল দেখানো হয়েছে, যা মুলতো python 3 এর ফাংশন গুলো python 2 তে ব্যাবহারের সুযোগ করে দেয়। আমরা ইম্পোরট আর মডিউল নিয়ে পড়ে আলোচনা করবো, তাই এখনি এটা সম্পূর্ণ বোঝার চেষ্টা না করলেও চলবে। "
   ]
  },
  {
   "cell_type": "code",
   "execution_count": 16,
   "metadata": {},
   "outputs": [
    {
     "data": {
      "text/plain": [
       "1.5"
      ]
     },
     "execution_count": 16,
     "metadata": {},
     "output_type": "execute_result"
    }
   ],
   "source": [
    "from __future__ import division\n",
    "3/2"
   ]
  },
  {
   "cell_type": "markdown",
   "metadata": {},
   "source": [
    "যখনি আমরা পায়থন ২ এ “import division from the future” করবো, তারপর থেকে আর আমাদের পাইথন ২ এর  \"classic\" division নিয়ে আর চিন্তা করা লাগবে না। "
   ]
  },
  {
   "cell_type": "markdown",
   "metadata": {},
   "source": [
    "## গাণিতিক সমস্যা চলছে…"
   ]
  },
  {
   "cell_type": "code",
   "execution_count": 17,
   "metadata": {},
   "outputs": [
    {
     "data": {
      "text/plain": [
       "8"
      ]
     },
     "execution_count": 17,
     "metadata": {},
     "output_type": "execute_result"
    }
   ],
   "source": [
    "# পাওয়ার (2 to the power of 3)\n",
    "2**3"
   ]
  },
  {
   "cell_type": "code",
   "execution_count": 18,
   "metadata": {},
   "outputs": [
    {
     "data": {
      "text/plain": [
       "2.0"
      ]
     },
     "execution_count": 18,
     "metadata": {},
     "output_type": "execute_result"
    }
   ],
   "source": [
    "# এছাড়াও আমরা রুট ও করতে পারি \n",
    "4**0.5"
   ]
  },
  {
   "cell_type": "code",
   "execution_count": 19,
   "metadata": {},
   "outputs": [
    {
     "data": {
      "text/plain": [
       "105"
      ]
     },
     "execution_count": 19,
     "metadata": {},
     "output_type": "execute_result"
    }
   ],
   "source": [
    "# এছাড়াও পাইথন গনীতের “Order of Operations” ফলো করে \n",
    "2 + 10 * 10 + 3"
   ]
  },
  {
   "cell_type": "code",
   "execution_count": 20,
   "metadata": {},
   "outputs": [
    {
     "data": {
      "text/plain": [
       "156"
      ]
     },
     "execution_count": 20,
     "metadata": {},
     "output_type": "execute_result"
    }
   ],
   "source": [
    "# এছাড়াও আমরা ব্র্যাকেট ব্যাবহার করে অর্ডার করতে পারি\n",
    "(2+10) * (10+3)"
   ]
  },
  {
   "cell_type": "markdown",
   "metadata": {},
   "source": [
    "#  ভেরিয়েবল এসাইনমেন্ট\n",
    "এতক্ষন আমরা দেখলাম পাইথনে সংখ্যা ব্যাবহার করে ক্যাল্কুলেটর এর কাজ করা। এখন আমরা দেখবো কিভাবে  ভেরিয়েবলর নাম এসাইনমেন্ট করা হয়। আমরা একটি সমান চিহ্ন দিয়ে ভেরিয়েবলে ভ্যালু দেই। কিছু উদাহারনের মাধ্যমে দেখা যাকঃ "
   ]
  },
  {
   "cell_type": "code",
   "execution_count": 21,
   "metadata": {
    "collapsed": true
   },
   "outputs": [],
   "source": [
    "# একটি অবজেক্ট “a” নিয়ে তাতে “৫” আস্যাইন করলাম\n",
    "a = 5"
   ]
  },
  {
   "cell_type": "markdown",
   "metadata": {},
   "source": [
    "এখন যদি আমরা একটি পাইথন স্ক্রিপ্টে **a** কল করি তবে পাইথন a কে ৫ হিসেবে ট্রিট করবে। \n"
   ]
  },
  {
   "cell_type": "code",
   "execution_count": 22,
   "metadata": {},
   "outputs": [
    {
     "data": {
      "text/plain": [
       "10"
      ]
     },
     "execution_count": 22,
     "metadata": {},
     "output_type": "execute_result"
    }
   ],
   "source": [
    "# অবজেক্ট যোগ \n",
    "a+a"
   ]
  },
  {
   "cell_type": "markdown",
   "metadata": {},
   "source": [
    "যদি আমরা a রিআস্যাইন করি তবে কি হবে? পাইথন কি তা আমাদের করতে দিবে? "
   ]
  },
  {
   "cell_type": "code",
   "execution_count": 23,
   "metadata": {
    "collapsed": true
   },
   "outputs": [],
   "source": [
    "# রিআস্যাইন \n",
    "a = 10"
   ]
  },
  {
   "cell_type": "code",
   "execution_count": 24,
   "metadata": {},
   "outputs": [
    {
     "data": {
      "text/plain": [
       "10"
      ]
     },
     "execution_count": 24,
     "metadata": {},
     "output_type": "execute_result"
    }
   ],
   "source": [
    "# চেক\n",
    "a"
   ]
  },
  {
   "cell_type": "markdown",
   "metadata": {},
   "source": [
    "ইয়েস!  পাইথনে আমরা রিআস্যাইন করতে পারি। আমরা চাইলে ভ্যারিয়েবল গুলো ব্যবহার করেও রিআস্যাইন করতে পারি। কিছু উদাহারন দেয়া হলোঃ "
   ]
  },
  {
   "cell_type": "code",
   "execution_count": 25,
   "metadata": {},
   "outputs": [
    {
     "data": {
      "text/plain": [
       "10"
      ]
     },
     "execution_count": 25,
     "metadata": {},
     "output_type": "execute_result"
    }
   ],
   "source": [
    "# চেক\n",
    "a"
   ]
  },
  {
   "cell_type": "code",
   "execution_count": 26,
   "metadata": {
    "collapsed": true
   },
   "outputs": [],
   "source": [
    "# a ব্যাবহার করে a কে রিআস্যাইন করা হলো। \n",
    "a = a + a"
   ]
  },
  {
   "cell_type": "code",
   "execution_count": 27,
   "metadata": {},
   "outputs": [
    {
     "data": {
      "text/plain": [
       "20"
      ]
     },
     "execution_count": 27,
     "metadata": {},
     "output_type": "execute_result"
    }
   ],
   "source": [
    "# চেক \n",
    "a"
   ]
  },
  {
   "cell_type": "markdown",
   "metadata": {},
   "source": [
    "পাইথনে অবজেক্টের নাম আস্যাইন করতে কিছু নিয়ম মানা হয়ঃ\n",
    "\n",
    "    1. নাম কখনো সংখ্যা দিয়ে শুরু হবে না\n",
    "    2. নানামের মাঝে কোন স্পেস থাকতে পারবে না, চাইলে _ ব্যাবহার করা যাবে।\n",
    "    3. এই সেম্বল গুলোর কোনটাই ব্যাবহার করা যাবে নাঃ '\",<>/?|\\()!@#$%^&*~-+\n",
    "    4. PEP8 এর নিয়ম মেনে নামের প্রথম অক্ষর ছোট হাতের অক্ষর দিয়ে শুরু করা ভালো। \n",
    "\n",
    "ভ্যারিয়েবল নামকরণ করে খুব সহজেই বিভিন্ন ভ্যারিয়েবল  ট্র্যাক রাখা যায়। নিছে দেখানো হলোঃ "
   ]
  },
  {
   "cell_type": "code",
   "execution_count": 28,
   "metadata": {
    "collapsed": true
   },
   "outputs": [],
   "source": [
    "# ভ্যারিয়েবল নামকরণ করে খুব সহজেই বিভিন্ন ভ্যারিয়েবল ট্র্যাক রাখা যায়\n",
    "my_income = 100\n",
    "\n",
    "tax_rate = 0.1\n",
    "\n",
    "my_taxes = my_income*tax_rate"
   ]
  },
  {
   "cell_type": "code",
   "execution_count": 29,
   "metadata": {},
   "outputs": [
    {
     "data": {
      "text/plain": [
       "10.0"
      ]
     },
     "execution_count": 29,
     "metadata": {},
     "output_type": "execute_result"
    }
   ],
   "source": [
    "# ট্যাক্স দেখানো হলো\n",
    "my_taxes"
   ]
  },
  {
   "cell_type": "markdown",
   "metadata": {},
   "source": [
    "তো আমরা কি কি দেখলাম? আমরা শিখলাম নাম্বারের বেসিক। সেই সাথে আরো দেখলাম পাইথন দিয়ে ক্যালকুলেটরের ব্যবহার। সব শেষে আমরা দেখলাম ভ্যারিয়েবল নামকরণ।\n",
    "\n",
    "পরবর্তী অংশে আমরা স্ট্রিং নিয়ে আলোচনা করবো। "
   ]
  }
 ],
 "metadata": {
  "anaconda-cloud": {},
  "kernelspec": {
   "display_name": "Python 3",
   "language": "python",
   "name": "python3"
  },
  "language_info": {
   "codemirror_mode": {
    "name": "ipython",
    "version": 3
   },
   "file_extension": ".py",
   "mimetype": "text/x-python",
   "name": "python",
   "nbconvert_exporter": "python",
   "pygments_lexer": "ipython3",
   "version": "3.6.1"
  }
 },
 "nbformat": 4,
 "nbformat_minor": 1
}
